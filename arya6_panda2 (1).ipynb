{
  "cells": [
    {
      "cell_type": "code",
      "execution_count": null,
      "id": "c4dffd72",
      "metadata": {
        "id": "c4dffd72",
        "outputId": "0121684b-0f5c-46bf-8bd0-7c2344e65bff"
      },
      "outputs": [
        {
          "name": "stdout",
          "output_type": "stream",
          "text": [
            "DataFrame.apply Function:\n",
            "\n",
            "\n",
            "Orignal DataFrame:\n",
            "    S  R\n",
            "0  3  9\n",
            "1  3  9\n",
            "2  3  9\n",
            "3  3  9\n",
            "\n",
            "Squre root of DataFrame:\n",
            "           S    R\n",
            "0  1.732051  3.0\n",
            "1  1.732051  3.0\n",
            "2  1.732051  3.0\n",
            "3  1.732051  3.0\n",
            "\n",
            " sum of each Column:\n",
            " S    12\n",
            "R    36\n",
            "dtype: int64\n",
            "\n",
            " sum of each row:\n",
            " 0    12\n",
            "1    12\n",
            "2    12\n",
            "3    12\n",
            "dtype: int64\n"
          ]
        }
      ],
      "source": [
        "import pandas as pd\n",
        "import numpy as np\n",
        "print(\"DataFrame.apply Function:\\n\")\n",
        "info=pd.DataFrame([[3,9]]*4,columns=['S','R'])\n",
        "print(\"\\nOrignal DataFrame:\\n\",info)\n",
        "print(\"\\nSqure root of DataFrame:\\n\",info.apply(np.sqrt))\n",
        "print(\"\\n sum of each Column:\\n\",info.apply(np.sum,axis=0))\n",
        "print(\"\\n sum of each row:\\n\", info.apply(np.sum,axis=1))"
      ]
    },
    {
      "cell_type": "code",
      "execution_count": null,
      "id": "497c3a3d",
      "metadata": {
        "id": "497c3a3d",
        "outputId": "54b34f00-fd52-4dfc-b978-b846a7d210cb"
      },
      "outputs": [
        {
          "name": "stdout",
          "output_type": "stream",
          "text": [
            "Original DataFrame:\n",
            "    0  1  2\n",
            "0  2  4  6\n",
            "1  1  3  5\n",
            "2  5  8  7\n",
            "\n",
            "Minimum & Maximum of each column:\n",
            "\n",
            "     0  1  2\n",
            "min  1  3  5\n",
            "max  5  8  7\n"
          ]
        }
      ],
      "source": [
        "info=pd.DataFrame([[2,4,6],[1,3,5],[5,8,7]])\n",
        "col=['X','Y','Z']\n",
        "print(\"Original DataFrame:\\n\",info)\n",
        "print(\"\\nMinimum & Maximum of each column:\\n\")\n",
        "print(info.agg(['min','max']))"
      ]
    },
    {
      "cell_type": "code",
      "execution_count": null,
      "id": "84931df6",
      "metadata": {
        "colab": {
          "base_uri": "https://localhost:8080/"
        },
        "id": "84931df6",
        "outputId": "6ac775e7-e897-4b82-9a31-ce5b20666dba"
      },
      "outputs": [
        {
          "output_type": "stream",
          "name": "stdout",
          "text": [
            "   X  Y  Z\n",
            "0  2  4  5\n",
            "1  1  3  5\n",
            "2  5  8  7\n",
            "     X  Y  Z\n",
            "min  1  3  5\n",
            "max  5  8  7\n",
            "     0   1\n",
            "0  Sai  88\n",
            "1  Poo  70\n"
          ]
        }
      ],
      "source": [
        "import pandas as pd\n",
        "import numpy as np\n",
        "info=pd.DataFrame([[2,4,5],[1,3,5],[5,8,7]],columns=['X', 'Y', 'Z'])\n",
        "print(info)\n",
        "print(info.agg(['min','max']))\n",
        "d2=pd.DataFrame([['Sai',88],['Poo',70]])\n",
        "column=['Emp','ID']\n",
        "print(d2)"
      ]
    },
    {
      "cell_type": "code",
      "execution_count": null,
      "metadata": {
        "colab": {
          "base_uri": "https://localhost:8080/"
        },
        "outputId": "2a632941-4292-45da-9883-6a255bb967f3",
        "id": "BQh8laR0iohQ"
      },
      "outputs": [
        {
          "output_type": "stream",
          "name": "stdout",
          "text": [
            "   X  Y  Z\n",
            "0  2  4  5\n",
            "1  1  3  5\n",
            "2  5  8  7\n",
            "     X  Y  Z\n",
            "min  1  3  5\n",
            "max  5  8  7\n",
            "     0   1\n",
            "0  Sai  88\n",
            "1  Poo  70\n",
            "     0   1  Age\n",
            "0  Sai  88   20\n",
            "1  Poo  70   18\n",
            "     0   1  Age   sex\n",
            "0  Sai  88   20  Male\n",
            "1  Poo  70   18  Male\n"
          ]
        }
      ],
      "source": [
        "import pandas as pd\n",
        "import numpy as np\n",
        "info=pd.DataFrame([[2,4,5],[1,3,5],[5,8,7]],columns=['X', 'Y', 'Z'])\n",
        "print(info)\n",
        "print(info.agg(['min','max']))\n",
        "d2=pd.DataFrame([['Sai',88],['Poo',70]])\n",
        "column=['Emp','ID']\n",
        "print(d2)\n",
        "d2['Age']=[20,18]\n",
        "print(d2)\n",
        "d=d2.assign(sex=['Male','Male'])\n",
        "print(d)"
      ],
      "id": "BQh8laR0iohQ"
    },
    {
      "cell_type": "code",
      "execution_count": null,
      "metadata": {
        "colab": {
          "base_uri": "https://localhost:8080/"
        },
        "outputId": "5c60e0c5-4699-487d-de35-a5ad9027d28e",
        "id": "4tuOHB5YlIdL"
      },
      "outputs": [
        {
          "output_type": "stream",
          "name": "stdout",
          "text": [
            "   X  Y  Z\n",
            "0  2  4  5\n",
            "1  1  3  5\n",
            "2  5  8  7\n",
            "     X  Y  Z\n",
            "min  1  3  5\n",
            "max  5  8  7\n",
            "     0   1\n",
            "0  Sai  88\n",
            "1  Poo  70\n",
            "     0   1  Age\n",
            "0  Sai  88   20\n",
            "1  Poo  70   18\n",
            "     0   1  Age   sex\n",
            "0  Sai  88   20  Male\n",
            "1  Poo  70   18  Male\n",
            "       col3      col4\n",
            "3  1.556303  1.527844\n",
            "2  1.464331 -0.041826\n",
            "0  1.368460 -0.777952\n",
            "4 -0.067250  0.249878\n",
            "1  2.394125 -0.422853\n"
          ]
        }
      ],
      "source": [
        "import pandas as pd\n",
        "import numpy as np\n",
        "info=pd.DataFrame([[2,4,5],[1,3,5],[5,8,7]],columns=['X', 'Y', 'Z'])\n",
        "print(info)\n",
        "print(info.agg(['min','max']))\n",
        "d2=pd.DataFrame([['Sai',88],['Poo',70]])\n",
        "column=['Emp','ID']\n",
        "print(d2)\n",
        "d2['Age']=[20,18]\n",
        "print(d2)\n",
        "d=d2.assign(sex=['Male','Male'])\n",
        "print(d)\n",
        "info=pd.DataFrame(np.random.randn(5,2),index=[3,2,0,4,1],columns=['col3','col4'])\n",
        "print(info)\n"
      ],
      "id": "4tuOHB5YlIdL"
    },
    {
      "cell_type": "code",
      "execution_count": 1,
      "metadata": {
        "colab": {
          "base_uri": "https://localhost:8080/"
        },
        "outputId": "98d71bae-ea70-4cb8-d61b-59a37830bd42",
        "id": "aD2brDYCmeMC"
      },
      "outputs": [
        {
          "output_type": "stream",
          "name": "stdout",
          "text": [
            "   X  Y  Z\n",
            "0  2  4  5\n",
            "1  1  3  5\n",
            "2  5  8  7\n",
            "     X  Y  Z\n",
            "min  1  3  5\n",
            "max  5  8  7\n",
            "     0   1\n",
            "0  Sai  88\n",
            "1  Poo  70\n",
            "     0   1  Age\n",
            "0  Sai  88   20\n",
            "1  Poo  70   18\n",
            "     0   1  Age   sex\n",
            "0  Sai  88   20  Male\n",
            "1  Poo  70   18  Male\n",
            "       col3      col4\n",
            "3  0.576604 -1.065459\n",
            "2 -0.214164  1.749106\n",
            "0  0.487103  0.422136\n",
            "4  0.038143  0.066512\n",
            "1 -0.088737  0.524271\n",
            "       col3      col4\n",
            "2 -0.214164  1.749106\n",
            "1 -0.088737  0.524271\n",
            "4  0.038143  0.066512\n",
            "0  0.487103  0.422136\n",
            "3  0.576604 -1.065459\n"
          ]
        }
      ],
      "source": [
        "import pandas as pd\n",
        "import numpy as np\n",
        "info=pd.DataFrame([[2,4,5],[1,3,5],[5,8,7]],columns=['X', 'Y', 'Z'])\n",
        "print(info)\n",
        "print(info.agg(['min','max']))\n",
        "d2=pd.DataFrame([['Sai',88],['Poo',70]])\n",
        "column=['Emp','ID']\n",
        "print(d2)\n",
        "d2['Age']=[20,18]\n",
        "print(d2)\n",
        "d=d2.assign(sex=['Male','Male'])\n",
        "print(d)\n",
        "info=pd.DataFrame(np.random.randn(5,2),index=[3,2,0,4,1],columns=['col3','col4'])\n",
        "print(info)\n",
        "info2=info.sort_index()\n",
        "info3=info.sort_values(by='col3')\n",
        "print(info3)"
      ],
      "id": "aD2brDYCmeMC"
    },
    {
      "cell_type": "code",
      "source": [
        "import pandas as pd\n",
        "import numpy as np\n",
        "left=pd.DataFrame({'id':[1,2,3],'Name':['Sai','Bale','Kar'],'Sub':['Sub1','Sub2','Sub3']})\n",
        "print(left)\n",
        "right=pd.DataFrame({'id':[1,2,3],'Name':['Label','kap','Aar'],'Sub':['Sub1','Sub2','Sub3']})\n",
        "print(right)\n",
        "print(pd.merge(left,right,on=\"id\"))"
      ],
      "metadata": {
        "colab": {
          "base_uri": "https://localhost:8080/"
        },
        "id": "e-jyFDZ8qDZu",
        "outputId": "ca3564b9-2056-47df-f014-86bff1bb9c15"
      },
      "id": "e-jyFDZ8qDZu",
      "execution_count": 8,
      "outputs": [
        {
          "output_type": "stream",
          "name": "stdout",
          "text": [
            "   id  Name   Sub\n",
            "0   1   Sai  Sub1\n",
            "1   2  Bale  Sub2\n",
            "2   3   Kar  Sub3\n",
            "   id   Name   Sub\n",
            "0   1  Label  Sub1\n",
            "1   2    kap  Sub2\n",
            "2   3    Aar  Sub3\n",
            "   id Name_x Sub_x Name_y Sub_y\n",
            "0   1    Sai  Sub1  Label  Sub1\n",
            "1   2   Bale  Sub2    kap  Sub2\n",
            "2   3    Kar  Sub3    Aar  Sub3\n"
          ]
        }
      ]
    }
  ],
  "metadata": {
    "kernelspec": {
      "display_name": "Python 3 (ipykernel)",
      "language": "python",
      "name": "python3"
    },
    "language_info": {
      "codemirror_mode": {
        "name": "ipython",
        "version": 3
      },
      "file_extension": ".py",
      "mimetype": "text/x-python",
      "name": "python",
      "nbconvert_exporter": "python",
      "pygments_lexer": "ipython3",
      "version": "3.11.3"
    },
    "colab": {
      "provenance": []
    }
  },
  "nbformat": 4,
  "nbformat_minor": 5
}