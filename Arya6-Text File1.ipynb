{
 "cells": [
  {
   "cell_type": "code",
   "execution_count": 42,
   "id": "40659c51",
   "metadata": {},
   "outputs": [],
   "source": [
    "f=open(\"E:\\Aryatf.txt\",\"w\")\n",
    "f.write(\"Wake up early\\n\")\n",
    "f.write(\"Read Daily\\n\")\n",
    "f.write(\"Pray to God\")\n",
    "f.close()"
   ]
  },
  {
   "cell_type": "code",
   "execution_count": 43,
   "id": "2d6c4686",
   "metadata": {},
   "outputs": [
    {
     "name": "stdout",
     "output_type": "stream",
     "text": [
      "Wake up early\n",
      "\n",
      "Read Daily\n",
      "\n",
      "Pray to God\n"
     ]
    }
   ],
   "source": [
    "a=open(\"E:\\Aryatf.txt\",\"r\")\n",
    "print(a.readline())\n",
    "print(a.readline())\n",
    "print(a.readline())\n",
    "a.close()"
   ]
  },
  {
   "cell_type": "code",
   "execution_count": 44,
   "id": "e2dc3ee6",
   "metadata": {},
   "outputs": [
    {
     "name": "stdout",
     "output_type": "stream",
     "text": [
      "Wake up early\n",
      "Read Daily\n",
      "Pray to God\n"
     ]
    }
   ],
   "source": [
    "b=open(\"E:\\Arya\",\"a\")\n",
    "b.write(\"Help others\\n\")\n",
    "b.write(\"Be Smart\\n\")\n",
    "b.close()\n",
    "c=open(\"E:\\Aryatf.txt\",\"r\")\n",
    "print(c.read())\n",
    "c.close()"
   ]
  },
  {
   "cell_type": "code",
   "execution_count": 28,
   "id": "30adc94b",
   "metadata": {},
   "outputs": [
    {
     "name": "stdout",
     "output_type": "stream",
     "text": [
      "['Wake up early\\n', 'Read Daily\\n', 'Pray to God']\n"
     ]
    }
   ],
   "source": [
    "with open(\"E:\\Aryatf.txt\",\"r\")as file:\n",
    "    lines=file.readlines()\n",
    "    print(lines)"
   ]
  },
  {
   "cell_type": "code",
   "execution_count": 45,
   "id": "8c45129f",
   "metadata": {},
   "outputs": [
    {
     "name": "stdout",
     "output_type": "stream",
     "text": [
      "Wake up early\n",
      "\n",
      "Read Daily\n",
      "\n",
      "Pray to God\n",
      "\n",
      "Help others\n",
      "\n",
      "Be Smart\n",
      "\n",
      "['Wake up early\\n', 'Read Daily\\n', 'Pray to God\\n', 'Help others\\n', 'Be Smart\\n']\n"
     ]
    }
   ],
   "source": [
    "f=open(\"E:\\Aryatf.txt\",\"w\")\n",
    "f.write(\"Wake up early\\n\")\n",
    "f.write(\"Read Daily\\n\")\n",
    "f.write(\"Pray to God\\n\")\n",
    "f.write(\"Help others\\n\")\n",
    "f.write(\"Be Smart\\n\")\n",
    "f.close()\n",
    "a=open(\"E:\\Aryatf.txt\",\"r\")\n",
    "print(a.readline())\n",
    "print(a.readline())\n",
    "print(a.readline())\n",
    "print(a.readline())\n",
    "print(a.readline())\n",
    "a.close()\n",
    "with open(\"E:\\Aryatf.txt\",\"r\")as file:\n",
    "    lines=file.readlines()\n",
    "    print(lines)"
   ]
  },
  {
   "cell_type": "code",
   "execution_count": 54,
   "id": "1024a742",
   "metadata": {},
   "outputs": [
    {
     "name": "stdout",
     "output_type": "stream",
     "text": [
      "London\n"
     ]
    }
   ],
   "source": [
    "import json\n",
    "x='{\"name\":\"Arya\",\"age\":20,\"city\":\"London\"}'\n",
    "y=json.loads(x)\n",
    "print(y[\"city\"])"
   ]
  },
  {
   "cell_type": "code",
   "execution_count": 55,
   "id": "f0e6563b",
   "metadata": {},
   "outputs": [
    {
     "name": "stdout",
     "output_type": "stream",
     "text": [
      "{\"name\": \"Arya\", \"age\": 20, \"city\": \"London\"}\n"
     ]
    }
   ],
   "source": [
    "import json\n",
    "x={\"name\":\"Arya\",\"age\":20,\"city\":\"London\"}\n",
    "y=json.dumps(x)\n",
    "print(y)"
   ]
  }
 ],
 "metadata": {
  "kernelspec": {
   "display_name": "Python 3 (ipykernel)",
   "language": "python",
   "name": "python3"
  },
  "language_info": {
   "codemirror_mode": {
    "name": "ipython",
    "version": 3
   },
   "file_extension": ".py",
   "mimetype": "text/x-python",
   "name": "python",
   "nbconvert_exporter": "python",
   "pygments_lexer": "ipython3",
   "version": "3.11.3"
  }
 },
 "nbformat": 4,
 "nbformat_minor": 5
}
