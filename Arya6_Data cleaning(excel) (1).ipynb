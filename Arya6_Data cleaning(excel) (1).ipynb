{
 "cells": [
  {
   "cell_type": "code",
   "execution_count": 3,
   "id": "e801f1f7",
   "metadata": {},
   "outputs": [
    {
     "name": "stdout",
     "output_type": "stream",
     "text": [
      "   Roll no.  ...   T&D\n",
      "0         1  ...  53.0\n",
      "1         2  ...  65.0\n",
      "2         3  ...  33.0\n",
      "3         4  ...  32.0\n",
      "4         5  ...   NaN\n",
      "5         6  ...  54.0\n",
      "6         7  ...  23.0\n",
      "7         8  ...  43.0\n",
      "8         9  ...  43.0\n",
      "9        10  ...  75.0\n",
      "\n",
      "[10 rows x 6 columns]\n"
     ]
    }
   ],
   "source": [
    "import pandas as pd\n",
    "pd.set_option('display.max_column',2)\n",
    "df=pd.read_excel(\"/Users/student/Downloads/marksheet.xlsx\")\n",
    "print(df)"
   ]
  },
  {
   "cell_type": "code",
   "execution_count": 5,
   "id": "c032f9fb",
   "metadata": {},
   "outputs": [
    {
     "name": "stdout",
     "output_type": "stream",
     "text": [
      "   Roll no.  ...   T&D\n",
      "0         1  ...  53.0\n",
      "1         2  ...  65.0\n",
      "2         3  ...  33.0\n",
      "3         4  ...  32.0\n",
      "4         5  ...  32.0\n",
      "5         6  ...  54.0\n",
      "6         7  ...  23.0\n",
      "7         8  ...  43.0\n",
      "8         9  ...  43.0\n",
      "9        10  ...  75.0\n",
      "\n",
      "[10 rows x 6 columns]\n",
      "\n",
      " Updated line\n",
      "\n"
     ]
    }
   ],
   "source": [
    "k=df.fillna(method='pad')\n",
    "print(k)\n",
    "print(\"\\n Updated line\\n\")\n",
    "k.to_excel(\"/Users/student/Downloads/marksheet.xlsx\")"
   ]
  },
  {
   "cell_type": "code",
   "execution_count": 6,
   "id": "e0f14545",
   "metadata": {},
   "outputs": [
    {
     "name": "stdout",
     "output_type": "stream",
     "text": [
      "   Roll no.  ...   T&D\n",
      "0         1  ...  53.0\n",
      "1         2  ...  65.0\n",
      "2         3  ...  33.0\n",
      "3         4  ...  32.0\n",
      "4         5  ...  32.0\n",
      "5         6  ...  54.0\n",
      "6         7  ...  23.0\n",
      "7         8  ...  43.0\n",
      "8         9  ...  43.0\n",
      "9        10  ...  75.0\n",
      "\n",
      "[10 rows x 5 columns]\n"
     ]
    }
   ],
   "source": [
    "k.drop(['DLC'],axis=1,inplace=True)\n",
    "print(k)\n",
    "k.to_excel(\"/Users/student/Downloads/marksheet.xlsx\")"
   ]
  },
  {
   "cell_type": "code",
   "execution_count": 22,
   "id": "8605f736",
   "metadata": {},
   "outputs": [
    {
     "name": "stdout",
     "output_type": "stream",
     "text": [
      "\n",
      " Drop NaN row:\n",
      "\n",
      "   Unnamed: 0.4  Unnamed: 0.3  Unnamed: 0.2  Unnamed: 0.1  Unnamed: 0  \\\n",
      "0             0             0             0             0           0   \n",
      "1             1             1             1             1           1   \n",
      "2             2             2             2             2           5   \n",
      "3             3             3             3             3           9   \n",
      "\n",
      "   Roll no.         Name  LICA  DLC  EM 2  T&D  \n",
      "0         1     Abhinith    36   41    63   53  \n",
      "1         2       Akilan    23   34    56   65  \n",
      "2         6       Ashwin    25   55    23   54  \n",
      "3        10  Balamurugan    54   64    34   75  \n",
      "   Unnamed: 0.4  Unnamed: 0.3  Unnamed: 0.2  Unnamed: 0.1  Unnamed: 0  \\\n",
      "0             0             0             0             0           0   \n",
      "1             1             1             1             1           1   \n",
      "2             2             2             2             2           5   \n",
      "3             3             3             3             3           9   \n",
      "\n",
      "   Roll no.         Name  LICA  DLC  EM 2  T&D  \n",
      "0         1     Abhinith    36   41    63   53  \n",
      "1         2       Akilan    23   34    56   65  \n",
      "2         6       Ashwin    25   55    23   54  \n",
      "3        10  Balamurugan    54   64    34   75  \n"
     ]
    }
   ],
   "source": [
    "import pandas as pd\n",
    "print(\"\\n Drop NaN row:\\n\")\n",
    "df=pd.read_excel(\"/Users/student/Downloads/m1.xlsx\")\n",
    "print(df)\n",
    "x=df.dropna()\n",
    "print(x)\n",
    "x.to_excel(\"/Users/student/Downloads/m1.xlsx\")"
   ]
  },
  {
   "cell_type": "code",
   "execution_count": 11,
   "id": "a06f31a6",
   "metadata": {},
   "outputs": [
    {
     "name": "stdout",
     "output_type": "stream",
     "text": [
      "\n",
      " Replace values:\n",
      "\n",
      "   Unnamed: 0  Roll no.         Name  LICA  DLC  EM 2  T&D\n",
      "0           0         1     Abhinith    36   41    63   53\n",
      "1           1         2       Akilan    23   34    56   65\n",
      "2           5         6       Ashwin    25   55    23   54\n",
      "3           9        10  Balamurugan    54   64    34   75\n",
      "   Unnamed: 0  Roll no.         Name  LICA  DLC  EM 2  T&D\n",
      "0           0         1     Abhinith    36   41    63   53\n",
      "1           1         2       Akilan    23   34    56   65\n",
      "2           5         6       Ashwin    25   55    23   54\n",
      "3           9        10  Balamurugan    54   64    34   75\n"
     ]
    }
   ],
   "source": [
    "print(\"\\n Replace values:\\n\")\n",
    "n=pd.read_excel(\"/Users/student/Downloads/m1.xlsx\")\n",
    "print(n)\n",
    "y=n.replace({88:90})\n",
    "print(y)\n",
    "y.to_excel(\"/Users/student/Downloads/m1.xlsx\")"
   ]
  },
  {
   "cell_type": "code",
   "execution_count": 27,
   "id": "bd32397e",
   "metadata": {},
   "outputs": [
    {
     "name": "stdout",
     "output_type": "stream",
     "text": [
      "   Unnamed: 0.5  Unnamed: 0.4  Unnamed: 0.3  Unnamed: 0.2  Unnamed: 0.1  \\\n",
      "0             0             0             0             0             0   \n",
      "1             1             1             1             1             1   \n",
      "2             2             2             2             2             2   \n",
      "3             3             3             3             3             3   \n",
      "\n",
      "   Unnamed: 0  Roll no.         Name  LICA  DLC  EM 2  T&D  \n",
      "0           0         1     Abhinith    36   41    63   53  \n",
      "1           1         2       Akilan    23   34    56   65  \n",
      "2           5         6       Ashwin    25   55    23   54  \n",
      "3           9        10  Balamurugan    54   64    34   75  \n",
      "\n",
      " Extract using isin() function:\n",
      "\n",
      "Empty DataFrame\n",
      "Columns: [Unnamed: 0.5, Unnamed: 0.4, Unnamed: 0.3, Unnamed: 0.2, Unnamed: 0.1, Unnamed: 0, Roll no., Name, LICA, DLC, EM 2, T&D]\n",
      "Index: []\n"
     ]
    }
   ],
   "source": [
    "import pandas as pd\n",
    "df=pd.read_excel(\"/Users/student/Downloads/m1.xlsx\")\n",
    "print(df)\n",
    "print(\"\\n Extract using isin() function:\\n\")\n",
    "new=df['DLC'].isin([60])\n",
    "print(df[new])"
   ]
  },
  {
   "cell_type": "code",
   "execution_count": null,
   "id": "e8b5aa31",
   "metadata": {},
   "outputs": [],
   "source": []
  }
 ],
 "metadata": {
  "kernelspec": {
   "display_name": "Python 3 (ipykernel)",
   "language": "python",
   "name": "python3"
  },
  "language_info": {
   "codemirror_mode": {
    "name": "ipython",
    "version": 3
   },
   "file_extension": ".py",
   "mimetype": "text/x-python",
   "name": "python",
   "nbconvert_exporter": "python",
   "pygments_lexer": "ipython3",
   "version": "3.11.5"
  }
 },
 "nbformat": 4,
 "nbformat_minor": 5
}
