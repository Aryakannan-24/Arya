{
 "cells": [
  {
   "cell_type": "code",
   "execution_count": 2,
   "id": "eef75d49",
   "metadata": {
    "scrolled": true
   },
   "outputs": [
    {
     "name": "stdout",
     "output_type": "stream",
     "text": [
      "One dimensional array: [10 20 30 40 50]\n"
     ]
    }
   ],
   "source": [
    "import numpy as np\n",
    "a=np.array([10,20,30,40,50])\n",
    "print(\"One dimensional array:\",a)"
   ]
  },
  {
   "cell_type": "code",
   "execution_count": 4,
   "id": "802011a7",
   "metadata": {},
   "outputs": [
    {
     "name": "stdout",
     "output_type": "stream",
     "text": [
      "Two dimensional array: [[ 10  20  30  40  50]\n",
      " [ 60  70  80  90 100]]\n"
     ]
    }
   ],
   "source": [
    "import numpy as np\n",
    "b=np.array([[10,20,30,40,50],[60,70,80,90,100]])\n",
    "print(\"Two dimensional array:\",b)"
   ]
  },
  {
   "cell_type": "code",
   "execution_count": 5,
   "id": "71ab90aa",
   "metadata": {},
   "outputs": [
    {
     "name": "stdout",
     "output_type": "stream",
     "text": [
      "\n",
      " Array with all zeros:\n",
      " [[0. 0. 0. 0. 0.]\n",
      " [0. 0. 0. 0. 0.]\n",
      " [0. 0. 0. 0. 0.]]\n"
     ]
    }
   ],
   "source": [
    "import numpy as np\n",
    "c=np.zeros((3,5))\n",
    "print(\"\\n Array with all zeros:\\n\",c)"
   ]
  },
  {
   "cell_type": "code",
   "execution_count": 6,
   "id": "1fae71c8",
   "metadata": {},
   "outputs": [
    {
     "name": "stdout",
     "output_type": "stream",
     "text": [
      "\n",
      " Random value:\n",
      " [[0.35507195 0.81209456 0.8294121 ]\n",
      " [0.77540669 0.63444027 0.34330152]\n",
      " [0.32895178 0.86875831 0.01788786]]\n"
     ]
    }
   ],
   "source": [
    "import numpy as np\n",
    "d=np.random.random((3,3))\n",
    "print(\"\\n Random value:\\n\",d)"
   ]
  },
  {
   "cell_type": "code",
   "execution_count": 8,
   "id": "ad5c4df2",
   "metadata": {},
   "outputs": [
    {
     "name": "stdout",
     "output_type": "stream",
     "text": [
      "\n",
      " Range value:\n",
      " [ 0  5 10 15 20 25 30 35 40 45 50 55 60 65 70 75 80 85 90 95]\n"
     ]
    }
   ],
   "source": [
    "import numpy  as np\n",
    "e=np.arange(0,100,5)\n",
    "print(\"\\n Range value:\\n\",e)"
   ]
  },
  {
   "cell_type": "code",
   "execution_count": 9,
   "id": "c2f0f52e",
   "metadata": {},
   "outputs": [
    {
     "name": "stdout",
     "output_type": "stream",
     "text": [
      "\n",
      " Original array:\n",
      " [[ 1  2  3  4]\n",
      " [ 5  6  7  8]\n",
      " [ 9 10 11 12]]\n",
      "\n",
      " Reshaped array [4,3]:\n",
      " [[ 1  2  3]\n",
      " [ 4  5  6]\n",
      " [ 7  8  9]\n",
      " [10 11 12]]\n"
     ]
    }
   ],
   "source": [
    "arr=np.array([[1,2,3,4],[5,6,7,8],[9,10,11,12]])\n",
    "newarr=arr.reshape((4,3))\n",
    "print(\"\\n Original array:\\n\",arr)\n",
    "print(\"\\n Reshaped array [4,3]:\\n\", newarr)"
   ]
  },
  {
   "cell_type": "code",
   "execution_count": 32,
   "id": "4287ab40",
   "metadata": {},
   "outputs": [
    {
     "name": "stdout",
     "output_type": "stream",
     "text": [
      "\n",
      " Array with integers:\n",
      " [[ 1  2  3]\n",
      " [ 4  5  6]\n",
      " [ 7  8  9]\n",
      " [19 20 21]\n",
      " [22 23 24]]\n",
      "\n",
      " Array with all zeros:\n",
      " [[0. 0. 0.]\n",
      " [0. 0. 0.]\n",
      " [0. 0. 0.]\n",
      " [0. 0. 0.]\n",
      " [0. 0. 0.]]\n",
      "\n",
      " Random value:\n",
      " [[0.51882463 0.03967183 0.4904719 ]\n",
      " [0.20491641 0.81295131 0.68979507]\n",
      " [0.20039867 0.6923417  0.69972243]\n",
      " [0.44443705 0.05252578 0.98816335]\n",
      " [0.2261635  0.14350443 0.53631646]]\n",
      "\n",
      " Original array:\n",
      " [[0.51882463 0.03967183 0.4904719 ]\n",
      " [0.20491641 0.81295131 0.68979507]\n",
      " [0.20039867 0.6923417  0.69972243]\n",
      " [0.44443705 0.05252578 0.98816335]\n",
      " [0.2261635  0.14350443 0.53631646]]\n",
      "\n",
      " Reshaped array[3,5]\n",
      " [[0.51882463 0.03967183 0.4904719  0.20491641 0.81295131]\n",
      " [0.68979507 0.20039867 0.6923417  0.69972243 0.44443705]\n",
      " [0.05252578 0.98816335 0.2261635  0.14350443 0.53631646]]\n",
      "\n",
      " Range value :\n",
      " [ 0  5 10 15 20 25 30 35 40 45 50 55 60 65 70 75]\n"
     ]
    }
   ],
   "source": [
    "import numpy as np\n",
    "a=np.array([[1,2,3],[4,5,6],[7,8,9],[19,20,21],[22,23,24]])\n",
    "print(\"\\n Array with integers:\\n\",a)\n",
    "\n",
    "\n",
    "#import numpy as np\n",
    "a=np.zeros((5,3))\n",
    "print(\"\\n Array with all zeros:\\n\",a)\n",
    "\n",
    "#import numpy as np\n",
    "a=np.random.random((5,3))\n",
    "print(\"\\n Random value:\\n\",a)\n",
    "\n",
    "\n",
    "#a=np.array([[1,2,3],[4,5,6],[7,8,9],[19,20,21],[22,23,24]])\n",
    "newa=a.reshape ((3,5))\n",
    "print(\"\\n Original array:\\n\",a)\n",
    "print(\"\\n Reshaped array[3,5]\\n\",newa)\n",
    "\n",
    "\n",
    "#import numpy as np\n",
    "a=np.arange(0,80,5)\n",
    "print(\"\\n Range value :\\n\",a)"
   ]
  },
  {
   "cell_type": "code",
   "execution_count": 29,
   "id": "6e654128",
   "metadata": {},
   "outputs": [
    {
     "name": "stdout",
     "output_type": "stream",
     "text": [
      "Flattened array:\n",
      " [ 7  8  9 19 20 21 22 23 24]\n"
     ]
    }
   ],
   "source": [
    "import numpy as np\n",
    "arr=np.array([[7,8,9],[19,20,21],[22,23,24]])\n",
    "flat=arr.flatten()\n",
    "print(\"Flattened array:\\n\",flat)"
   ]
  },
  {
   "cell_type": "code",
   "execution_count": 6,
   "id": "7d04b103",
   "metadata": {},
   "outputs": [
    {
     "name": "stdout",
     "output_type": "stream",
     "text": [
      "\n",
      " Array with random values:\n",
      " [[0.75175885 0.90876956 0.0309303 ]\n",
      " [0.38759286 0.44448188 0.57128377]\n",
      " [0.41085985 0.46770335 0.95753413]\n",
      " [0.63502524 0.79048802 0.08593052]\n",
      " [0.48994951 0.99604661 0.63902028]]\n",
      "\n",
      " no of dimensions: 2\n"
     ]
    }
   ],
   "source": [
    "import numpy as rnp\n",
    "r=rnp.random.random((5,3))\n",
    "print(\"\\n Array with random values:\\n\",r)\n",
    "print(\"\\n no of dimensions:\",arr.ndim)"
   ]
  },
  {
   "cell_type": "code",
   "execution_count": 4,
   "id": "b79799f5",
   "metadata": {},
   "outputs": [
    {
     "name": "stdout",
     "output_type": "stream",
     "text": [
      "\n",
      " Shape of array: (5, 3)\n"
     ]
    }
   ],
   "source": [
    "import numpy as np\n",
    "arr=np.array([[1,2,3],[4,5,6],[7,8,9],[10,11,12],[13,14,15]])\n",
    "print(\"\\n Shape of array:\",arr.shape)"
   ]
  },
  {
   "cell_type": "code",
   "execution_count": 5,
   "id": "3bf259c1",
   "metadata": {},
   "outputs": [
    {
     "name": "stdout",
     "output_type": "stream",
     "text": [
      "\n",
      " Convert array element:\n",
      " [[ 1.+0.j  2.+0.j  3.+0.j  4.+0.j]\n",
      " [ 5.+0.j  6.+0.j  7.+0.j  8.+0.j]\n",
      " [ 9.+0.j 10.+0.j 11.+0.j 12.+0.j]]\n",
      "\n",
      " Converted array:\n",
      " complex64\n"
     ]
    }
   ],
   "source": [
    "import numpy as np\n",
    "arr=np.array([[1,2,3,4],[5,6,7,8],[9,10,11,12]])\n",
    "newtype=arr.astype('F')\n",
    "print(\"\\n Convert array element:\\n\",newtype)\n",
    "print(\"\\n Converted array:\\n\",newtype.dtype)"
   ]
  },
  {
   "cell_type": "code",
   "execution_count": 7,
   "id": "369869d8",
   "metadata": {},
   "outputs": [
    {
     "name": "stdout",
     "output_type": "stream",
     "text": [
      "\n",
      " length of array:\n",
      " 3\n"
     ]
    }
   ],
   "source": [
    "import numpy as np\n",
    "length=len(arr)\n",
    "print(\"\\n length of array:\\n\",length)"
   ]
  }
 ],
 "metadata": {
  "kernelspec": {
   "display_name": "Python 3 (ipykernel)",
   "language": "python",
   "name": "python3"
  },
  "language_info": {
   "codemirror_mode": {
    "name": "ipython",
    "version": 3
   },
   "file_extension": ".py",
   "mimetype": "text/x-python",
   "name": "python",
   "nbconvert_exporter": "python",
   "pygments_lexer": "ipython3",
   "version": "3.11.5"
  }
 },
 "nbformat": 4,
 "nbformat_minor": 5
}
